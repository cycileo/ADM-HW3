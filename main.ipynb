{
 "cells": [
  {
   "cell_type": "code",
   "execution_count": 1,
   "metadata": {},
   "outputs": [
    {
     "name": "stdout",
     "output_type": "stream",
     "text": [
      "Requirement already satisfied: lxml in c:\\users\\marta\\appdata\\local\\programs\\python\\python311\\lib\\site-packages (5.3.0)\n"
     ]
    }
   ],
   "source": [
    "!pip install lxml"
   ]
  },
  {
   "cell_type": "markdown",
   "metadata": {},
   "source": [
    "# [Homework 3](https://github.com/Sapienza-University-Rome/ADM/tree/master/2024/Homework_3) - Michelin restaurants in Italy\n",
    "![iStock-654454404-777x518](https://a.storyblok.com/f/125576/2448x1220/327bb24d32/hero_update_michelin.jpg/m/1224x0/filters:format(webp))\n",
    "\n",
    "## 1. Data collection\n",
    "\n",
    "For the data collection, we wrote the required function in a `data_collection.py` module. "
   ]
  },
  {
   "cell_type": "code",
   "execution_count": 2,
   "metadata": {},
   "outputs": [],
   "source": [
    "from data_collection import save_links, download_html_from_link_file, html_to_tsv"
   ]
  },
  {
   "cell_type": "markdown",
   "metadata": {},
   "source": [
    "The following is the overview of the main functions for each step, together with the code to run. \n",
    "\n",
    "Every function has an optional `data_folder` argument wich server the purpose to set the working data directory. \n",
    "We tought this to be useful, for example to set the date of the data collection as the directory name. \n",
    "This is useful, as the Michelin list of restaurant is constantly updated. "
   ]
  },
  {
   "cell_type": "code",
   "execution_count": 3,
   "metadata": {},
   "outputs": [],
   "source": [
    "data_folder = 'DATA 24-11-09'\n",
    "# date of last data collection, yy-mm-dd"
   ]
  },
  {
   "cell_type": "markdown",
   "metadata": {},
   "source": [
    "---\n",
    "\n",
    "### 1.1. Get the list of Michelin restaurants\n",
    "   #### **Function**: `save_links`\n",
    "   - **Description**: \n",
    "     Collects restaurant links from the Michelin Guide website starting from the provided `start_url`. The links are saved into a text file (`restaurant_links.txt`) within a specified data folder.\n",
    "   - **Input**: \n",
    "     - `start_url`: URL of the Michelin Guide page to start scraping.\n",
    "   - **Optional Input**: \n",
    "     - `file_name`: name of the output file; by default it is `restaurant_links.txt`.\n",
    "     - `data_folder`: the folder where datas will be stored; by default it is `DATA`.\n",
    "   - **Output**:\n",
    "     - A text file containing restaurant links, one per line, saved in the `data_folder`.\n",
    "   - **Key Features**:\n",
    "     - Automatically detects the number of pages to scrape.\n",
    "     - Skips scraping if the links file already exists."
   ]
  },
  {
   "cell_type": "code",
   "execution_count": 4,
   "metadata": {},
   "outputs": [
    {
     "name": "stdout",
     "output_type": "stream",
     "text": [
      "Links already collected.\n",
      "There are 1982 link already collected\n"
     ]
    }
   ],
   "source": [
    "start_url = \"https://guide.michelin.com/en/it/restaurants\"\n",
    "save_links(start_url, data_folder = data_folder)"
   ]
  },
  {
   "cell_type": "markdown",
   "metadata": {},
   "source": [
    "---\n",
    "\n",
    "### 1.2. Crawl Michelin restaurant pages\n",
    "   #### **Function**: `download_html_from_link_file`\n",
    "   - **Description**: \n",
    "     Downloads the HTML from every URL in the input `file_name`, and saves them to a structured folder (`DATA/HTMLs/page_X`).\n",
    "   - **Input (all optional)**:\n",
    "     - `file_name`: name of the file with the links; by default it is `restaurant_links.txt`.\n",
    "     - `data_folder`: the folder where datas will be stored; by default it is `DATA`.\n",
    "   - **Output**:\n",
    "     - Saves the HTML files in a structured folder `DATA/HTMLs/page_X`. \n",
    "   - **Key Features**:\n",
    "     - Uses `ThreadPoolExecutor` to speed up the process\n",
    "     - Skips existing HTML files"
   ]
  },
  {
   "cell_type": "code",
   "execution_count": 5,
   "metadata": {},
   "outputs": [
    {
     "name": "stderr",
     "output_type": "stream",
     "text": [
      "Download HTMLs: 100%|██████████| 1982/1982 [00:00<00:00, 9333.03it/s]"
     ]
    },
    {
     "name": "stdout",
     "output_type": "stream",
     "text": [
      "All html files have been saved.\n"
     ]
    },
    {
     "name": "stderr",
     "output_type": "stream",
     "text": [
      "\n"
     ]
    }
   ],
   "source": [
    "download_html_from_link_file(data_folder = data_folder)"
   ]
  },
  {
   "cell_type": "markdown",
   "metadata": {},
   "source": [
    "---\n",
    "\n",
    "### 1.3 Parse downloaded pages\n",
    "\n",
    "#### **Function**: `extract_info_from_html`\n",
    "- **Description**:  \n",
    "  Parses a restaurant's HTML page and extracts structured information such as name, address, cuisine type, price range, description, and services.\n",
    "- **Input**:\n",
    "  - `html`: The raw HTML content of a restaurant's page.\n",
    "- **Output**:\n",
    "  - A dictionary containing extracted fields.\n",
    "- **Key Features**:\n",
    "  - Handles missing data gracefully.\n",
    "  - Handles addresses separated by commas.\n",
    "\n",
    "\n",
    "#### **Function**: `html_to_tsv`\n",
    "- **Description**:  \n",
    "  Scans the `HTMLs` folder inside the `data_folder` for all the html files, then processes every file with `extract_info_from_html`.\n",
    "- **Input (optional)**:\n",
    "  - `data_folder`: The folder where data will be stored; by default it is `DATA`.\n",
    "  - `max_workers`: the max number of concurrent HTML parsing tasks. \n",
    "- **Output**:\n",
    "  - Saves the TSV files in the folder `DATA/TSVs`.\n",
    "- **Key Features**:\n",
    "     - Uses `ThreadPoolExecutor` to speed up the process. \n",
    "- **Advice**:\n",
    "     - Fine-tune the `max_workers` parameter according to your CPU performance. As a rule of thumb, set `max_workers` to the number of CPU cores available. An estimated processing time of around 5 minutes is typical. "
   ]
  },
  {
   "cell_type": "code",
   "execution_count": 6,
   "metadata": {},
   "outputs": [
    {
     "name": "stderr",
     "output_type": "stream",
     "text": [
      "Processing HTMLs: 100%|██████████| 1982/1982 [00:00<00:00, 28726.12it/s]"
     ]
    },
    {
     "name": "stdout",
     "output_type": "stream",
     "text": [
      "All files have been processed and saved.\n"
     ]
    },
    {
     "name": "stderr",
     "output_type": "stream",
     "text": [
      "\n"
     ]
    }
   ],
   "source": [
    "html_to_tsv(data_folder=data_folder, max_workers=4)"
   ]
  },
  {
   "cell_type": "markdown",
   "metadata": {},
   "source": [
    "For completeness, let us create the dataframe for our dataset, in order to handle it effectively.\n",
    "\n",
    "#### **Function**: `create_combined_dataframe`\n",
    "- **Description**:  \n",
    "  This function reads all the `.tsv` files from a specified folder, loads them into individual pandas DataFrames, and then combines them into a single DataFrame. It is useful for aggregating data from multiple sources into one unified dataset for further analysis.\n",
    "\n",
    "- **Input**:\n",
    "  - `folder_path` (str): The path to the folder containing the `.tsv` files to be read.\n",
    "  - `separator` (str): The delimiter used in the `.tsv` files. Typically, it's a tab (`\\t`), but it could be adjusted if needed.\n",
    "  \n",
    "- **Output**:\n",
    "  - Returns a pandas DataFrame containing all the combined data from the `.tsv` files in the specified folder.\n",
    "\n",
    "- **Key Features**:\n",
    "  - Utilizes `glob` to find all `.tsv` files in the provided folder.\n",
    "  - Loads each file as a DataFrame using pandas `read_csv()` with the specified delimiter.\n",
    "  - Concatenates all DataFrames into one, ignoring index to prevent duplication.\n",
    "  - Efficient handling of large datasets through pandas' built-in functions.\n",
    "\n",
    "By running this function, you'll have a consolidated view of all the restaurant data in a single DataFrame, ready for any further analysis or processing. The first few rows of the dataset are provided below."
   ]
  },
  {
   "cell_type": "code",
   "execution_count": 7,
   "metadata": {},
   "outputs": [
    {
     "data": {
      "text/html": [
       "<div>\n",
       "<style scoped>\n",
       "    .dataframe tbody tr th:only-of-type {\n",
       "        vertical-align: middle;\n",
       "    }\n",
       "\n",
       "    .dataframe tbody tr th {\n",
       "        vertical-align: top;\n",
       "    }\n",
       "\n",
       "    .dataframe thead th {\n",
       "        text-align: right;\n",
       "    }\n",
       "</style>\n",
       "<table border=\"1\" class=\"dataframe\">\n",
       "  <thead>\n",
       "    <tr style=\"text-align: right;\">\n",
       "      <th></th>\n",
       "      <th>restaurantName</th>\n",
       "      <th>address</th>\n",
       "      <th>city</th>\n",
       "      <th>postalCode</th>\n",
       "      <th>country</th>\n",
       "      <th>priceRange</th>\n",
       "      <th>cuisineType</th>\n",
       "      <th>description</th>\n",
       "      <th>facilitiesServices</th>\n",
       "      <th>creditCards</th>\n",
       "      <th>phoneNumber</th>\n",
       "      <th>website</th>\n",
       "    </tr>\n",
       "  </thead>\n",
       "  <tbody>\n",
       "    <tr>\n",
       "      <th>0</th>\n",
       "      <td>20Tre</td>\n",
       "      <td>via David Chiossone 20 r</td>\n",
       "      <td>Genoa</td>\n",
       "      <td>16123</td>\n",
       "      <td>Italy</td>\n",
       "      <td>€€</td>\n",
       "      <td>Farm to table, Modern Cuisine</td>\n",
       "      <td>Situated in the heart of Genoa’s historic cent...</td>\n",
       "      <td>['Air conditioning']</td>\n",
       "      <td>['amex', 'dinersclub', 'mastercard', 'visa']</td>\n",
       "      <td>+39 010 247 6191</td>\n",
       "      <td>https://www.ristorante20tregenova.it/</td>\n",
       "    </tr>\n",
       "    <tr>\n",
       "      <th>1</th>\n",
       "      <td>Il Ristorante Alain Ducasse Napoli</td>\n",
       "      <td>Via Cristoforo Colombo 45</td>\n",
       "      <td>Naples</td>\n",
       "      <td>80133</td>\n",
       "      <td>Italy</td>\n",
       "      <td>€€€€</td>\n",
       "      <td>Creative, Mediterranean Cuisine</td>\n",
       "      <td>Alain Ducasse, one of the great names in conte...</td>\n",
       "      <td>['Air conditioning', 'Great view', 'Interestin...</td>\n",
       "      <td>['amex', 'dinersclub', 'discover', 'maestrocar...</td>\n",
       "      <td>+39 081 604 1580</td>\n",
       "      <td>https://theromeocollection.com/en/romeo-napoli...</td>\n",
       "    </tr>\n",
       "    <tr>\n",
       "      <th>2</th>\n",
       "      <td>Salvo Cacciatori</td>\n",
       "      <td>via Vieusseux 12</td>\n",
       "      <td>Oneglia</td>\n",
       "      <td>18100</td>\n",
       "      <td>Italy</td>\n",
       "      <td>€€€</td>\n",
       "      <td>Ligurian, Contemporary</td>\n",
       "      <td>This restaurant has come a long way since 1906...</td>\n",
       "      <td>['Air conditioning', 'Restaurant offering vege...</td>\n",
       "      <td>['amex', 'discover', 'jcb', 'maestrocard', 'ma...</td>\n",
       "      <td>+39 0183 293763</td>\n",
       "      <td>https://ristorantesalvocacciatori.it/</td>\n",
       "    </tr>\n",
       "    <tr>\n",
       "      <th>3</th>\n",
       "      <td>Terre Alte</td>\n",
       "      <td>via Olmadella 11, località Balignano</td>\n",
       "      <td>Longiano</td>\n",
       "      <td>47020</td>\n",
       "      <td>Italy</td>\n",
       "      <td>€€€</td>\n",
       "      <td>Seafood</td>\n",
       "      <td>One of the best-known addresses in this region...</td>\n",
       "      <td>['Air conditioning', 'Car park', 'Terrace']</td>\n",
       "      <td>['amex', 'mastercard', 'visa']</td>\n",
       "      <td>+39 0547 666138</td>\n",
       "      <td>https://ristoranteterrealte.com/</td>\n",
       "    </tr>\n",
       "    <tr>\n",
       "      <th>4</th>\n",
       "      <td>Tubladel</td>\n",
       "      <td>via Trebinger 22</td>\n",
       "      <td>Ortisei</td>\n",
       "      <td>39046</td>\n",
       "      <td>Italy</td>\n",
       "      <td>€€€</td>\n",
       "      <td>Regional Cuisine</td>\n",
       "      <td>Although this restaurant with wood-adorned din...</td>\n",
       "      <td>['Car park', 'Terrace']</td>\n",
       "      <td>['mastercard', 'visa']</td>\n",
       "      <td>+39 0471 796879</td>\n",
       "      <td>https://www.tubladel.com/</td>\n",
       "    </tr>\n",
       "  </tbody>\n",
       "</table>\n",
       "</div>"
      ],
      "text/plain": [
       "                       restaurantName                               address  \\\n",
       "0                               20Tre              via David Chiossone 20 r   \n",
       "1  Il Ristorante Alain Ducasse Napoli             Via Cristoforo Colombo 45   \n",
       "2                    Salvo Cacciatori                      via Vieusseux 12   \n",
       "3                          Terre Alte  via Olmadella 11, località Balignano   \n",
       "4                            Tubladel                      via Trebinger 22   \n",
       "\n",
       "       city  postalCode country priceRange                      cuisineType  \\\n",
       "0     Genoa       16123   Italy         €€    Farm to table, Modern Cuisine   \n",
       "1    Naples       80133   Italy       €€€€  Creative, Mediterranean Cuisine   \n",
       "2   Oneglia       18100   Italy        €€€           Ligurian, Contemporary   \n",
       "3  Longiano       47020   Italy        €€€                          Seafood   \n",
       "4   Ortisei       39046   Italy        €€€                 Regional Cuisine   \n",
       "\n",
       "                                         description  \\\n",
       "0  Situated in the heart of Genoa’s historic cent...   \n",
       "1  Alain Ducasse, one of the great names in conte...   \n",
       "2  This restaurant has come a long way since 1906...   \n",
       "3  One of the best-known addresses in this region...   \n",
       "4  Although this restaurant with wood-adorned din...   \n",
       "\n",
       "                                  facilitiesServices  \\\n",
       "0                               ['Air conditioning']   \n",
       "1  ['Air conditioning', 'Great view', 'Interestin...   \n",
       "2  ['Air conditioning', 'Restaurant offering vege...   \n",
       "3        ['Air conditioning', 'Car park', 'Terrace']   \n",
       "4                            ['Car park', 'Terrace']   \n",
       "\n",
       "                                         creditCards       phoneNumber  \\\n",
       "0       ['amex', 'dinersclub', 'mastercard', 'visa']  +39 010 247 6191   \n",
       "1  ['amex', 'dinersclub', 'discover', 'maestrocar...  +39 081 604 1580   \n",
       "2  ['amex', 'discover', 'jcb', 'maestrocard', 'ma...   +39 0183 293763   \n",
       "3                     ['amex', 'mastercard', 'visa']   +39 0547 666138   \n",
       "4                             ['mastercard', 'visa']   +39 0471 796879   \n",
       "\n",
       "                                             website  \n",
       "0              https://www.ristorante20tregenova.it/  \n",
       "1  https://theromeocollection.com/en/romeo-napoli...  \n",
       "2              https://ristorantesalvocacciatori.it/  \n",
       "3                   https://ristoranteterrealte.com/  \n",
       "4                          https://www.tubladel.com/  "
      ]
     },
     "execution_count": 7,
     "metadata": {},
     "output_type": "execute_result"
    }
   ],
   "source": [
    "from data_collection import create_combined_dataframe\n",
    "df = create_combined_dataframe(data_folder+\"\\TSVs\", separator='\\t')\n",
    "df.head()"
   ]
  },
  {
   "cell_type": "markdown",
   "metadata": {},
   "source": [
    "---"
   ]
  },
  {
   "cell_type": "markdown",
   "metadata": {},
   "source": [
    "## 2. Search Engine"
   ]
  },
  {
   "cell_type": "markdown",
   "metadata": {},
   "source": [
    "### 2.0.0) Preprocessing the Text"
   ]
  },
  {
   "cell_type": "code",
   "execution_count": null,
   "metadata": {},
   "outputs": [
    {
     "name": "stdout",
     "output_type": "stream",
     "text": [
      "Requirement already satisfied: nltk in c:\\users\\marta\\appdata\\local\\programs\\python\\python311\\lib\\site-packages (3.9.1)\n",
      "Requirement already satisfied: click in c:\\users\\marta\\appdata\\local\\programs\\python\\python311\\lib\\site-packages (from nltk) (8.1.7)\n",
      "Requirement already satisfied: joblib in c:\\users\\marta\\appdata\\local\\programs\\python\\python311\\lib\\site-packages (from nltk) (1.4.2)\n",
      "Requirement already satisfied: regex>=2021.8.3 in c:\\users\\marta\\appdata\\local\\programs\\python\\python311\\lib\\site-packages (from nltk) (2024.11.6)\n",
      "Requirement already satisfied: tqdm in c:\\users\\marta\\appdata\\local\\programs\\python\\python311\\lib\\site-packages (from nltk) (4.66.4)\n",
      "Requirement already satisfied: colorama in c:\\users\\marta\\appdata\\roaming\\python\\python311\\site-packages (from click->nltk) (0.4.6)\n"
     ]
    },
    {
     "data": {
      "text/plain": [
       "<module 'data_collection' from 'c:\\\\Users\\\\marta\\\\OneDrive\\\\Documenti\\\\GitHub\\\\ADM-HW3\\\\data_collection.py'>"
      ]
     },
     "execution_count": 35,
     "metadata": {},
     "output_type": "execute_result"
    }
   ],
   "source": [
    "!pip install --upgrade nltk"
   ]
  },
  {
   "cell_type": "code",
   "execution_count": 37,
   "metadata": {},
   "outputs": [
    {
     "data": {
      "text/plain": [
       "<module 'data_collection' from 'c:\\\\Users\\\\marta\\\\OneDrive\\\\Documenti\\\\GitHub\\\\ADM-HW3\\\\data_collection.py'>"
      ]
     },
     "execution_count": 37,
     "metadata": {},
     "output_type": "execute_result"
    }
   ],
   "source": [
    "import importlib, data_collection\n",
    "importlib.reload(data_collection)"
   ]
  },
  {
   "cell_type": "code",
   "execution_count": null,
   "metadata": {},
   "outputs": [
    {
     "name": "stderr",
     "output_type": "stream",
     "text": [
      "[nltk_data] Downloading package stopwords to\n",
      "[nltk_data]     C:\\Users\\marta\\AppData\\Roaming\\nltk_data...\n",
      "[nltk_data]   Package stopwords is already up-to-date!\n",
      "[nltk_data] Downloading package punkt to\n",
      "[nltk_data]     C:\\Users\\marta\\AppData\\Roaming\\nltk_data...\n",
      "[nltk_data]   Package punkt is already up-to-date!\n"
     ]
    },
    {
     "data": {
      "text/plain": [
       "True"
      ]
     },
     "execution_count": 20,
     "metadata": {},
     "output_type": "execute_result"
    }
   ],
   "source": [
    "import nltk\n",
    "nltk.download('stopwords')\n",
    "nltk.download('punkt')"
   ]
  },
  {
   "cell_type": "code",
   "execution_count": 38,
   "metadata": {},
   "outputs": [
    {
     "name": "stdout",
     "output_type": "stream",
     "text": [
      "Word Tokens: Situated in the heart of Genoa ’ s historic centre , this contemporary - style restaurant focuses on just a few dishes , almost all fish - based , presented in a very modern style and in generous portions . Seasonal ingredients and market - fresh produce are the guiding philosophy here .\n",
      "Filtered Sentence: Situated heart Genoa historic centre contemporary style restaurant focuses dishes almost fish based presented modern style generous portions Seasonal ingredients market fresh produce guiding philosophy\n",
      "Stemmed Sentence: situat heart genoa histor centr contemporari style restaur focus dish almost fish base present modern style generous portion season ingredi market fresh produc guid philosophi\n"
     ]
    }
   ],
   "source": [
    "from data_collection import preprocess_text\n",
    "preprocess_text(df['description'].iloc[0])"
   ]
  }
 ],
 "metadata": {
  "kernelspec": {
   "display_name": "Python 3",
   "language": "python",
   "name": "python3"
  },
  "language_info": {
   "codemirror_mode": {
    "name": "ipython",
    "version": 3
   },
   "file_extension": ".py",
   "mimetype": "text/x-python",
   "name": "python",
   "nbconvert_exporter": "python",
   "pygments_lexer": "ipython3",
   "version": "3.11.5"
  }
 },
 "nbformat": 4,
 "nbformat_minor": 2
}
